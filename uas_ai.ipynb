{
 "cells": [
  {
   "cell_type": "markdown",
   "metadata": {
    "tags": []
   },
   "source": [
    "# Chatbot Rumah sakit terintegrasi telegram"
   ]
  },
  {
   "cell_type": "code",
   "execution_count": 1,
   "metadata": {
    "tags": []
   },
   "outputs": [
    {
     "name": "stderr",
     "output_type": "stream",
     "text": [
      "[nltk_data] Downloading package wordnet to\n",
      "[nltk_data]     C:\\Users\\naufa\\AppData\\Roaming\\nltk_data...\n",
      "[nltk_data]   Package wordnet is already up-to-date!\n",
      "[nltk_data] Downloading package punkt to\n",
      "[nltk_data]     C:\\Users\\naufa\\AppData\\Roaming\\nltk_data...\n",
      "[nltk_data]   Package punkt is already up-to-date!\n"
     ]
    }
   ],
   "source": [
    "import pandas as pd\n",
    "import numpy as np\n",
    "import nltk\n",
    "import string\n",
    "import warnings\n",
    "import requests\n",
    "import random\n",
    "from tokens import token\n",
    "from Sastrawi.StopWordRemover.StopWordRemoverFactory import StopWordRemoverFactory\n",
    "\n",
    "warnings.filterwarnings(\"ignore\")\n",
    "\n",
    "nltk.download('wordnet')\n",
    "nltk.download('punkt')\n",
    "\n",
    "from sklearn.feature_extraction.text import TfidfVectorizer"
   ]
  },
  {
   "cell_type": "markdown",
   "metadata": {
    "tags": []
   },
   "source": [
    "## Data latih"
   ]
  },
  {
   "cell_type": "code",
   "execution_count": 2,
   "metadata": {
    "tags": []
   },
   "outputs": [],
   "source": [
    "data = [[\"Hai\",0],[\"Halo\",0],[\"Hey\",0],[\"Assalamualaikum\",0],[\"Salam\",0],\n",
    "        [\"Apakah ada kamar tersedia?\",1],[\"Apa ada kamar kosong?\",1],[\"Apakah ada UGD yang kosong?\",1],[\"Apa ada ruangan kosong?\",1],[\"Apakah ada kamar kosong saat ini?\",1],[\"Apakah ada ruangan kosong sekarang?\",1],\n",
    "        [\"Apakah ada dokter?\",2],[\"Apakah ada tenaga medis?\",2], [\"Apa ada dokter hari ini?\",2],[\"Ada berapa dokter?\",2],[\"Dokter apa saja yang ada?\",2],[\"Apakah ada dokter yang tersedia?\",2],   \n",
    "        [\"Disini ada dokter spesialis apa saja?\",3],[\"Di rumah sakit ini ada dokter spesialis apa saja?\",3],[\"Apakah disini ada dokter spesialis?\",3],[\"Dokter spesialis apa saja yang ada disini?\",3],\n",
    "        [\"Ruangan apa saja yang ada disini?\",4],[\"Di rumah sakit ini ada ruangan apa saja?\",4], [\"Berapa jumlah ruangan di rumah sakit ini?\",4],[\"Berapa banyak ruangan di rs ini?\",4],[\"Ruangan apa saja yang tersedia disini?\",4],[\"Ada ruangan apa saja diini?\",4],\n",
    "        [\"Apakah bisa menggunakan BPJS?\",5],[\"Apa bisa pakai BPJS?\",5],[\"Apakah bisa pakai BPJS di rumah sakit ini?\",5],[\"Apa di rumah sakit ini menyediakan layanan BPJS?\",5],[\"Bagaimana dengan BPJS?\",5],[\"Apakah bisa memakai BPJS?\",5],\n",
    "        [\"Apa saja gejala covid-19?\",6],[\"Seperti apa gejala covid?\",6],[\"Gejala corona seperti apa?\",6],[\"Apakah covid berbahaya?\",6],[\"Apa gejala orang yang terpapar covid19?\",6],\n",
    "        [\" \",7],[\" \",7],[\" \",7],[\" \",7],[\" \",7],[\" \",7],[\" \",7],[\" \",7],[\" \",7],[\" \",7],\n",
    "        [\"Apakah disini menerima pasien covid-19?\",8],[\"Apa disini menerima rujukan covid?\",8],[\"Apa disini menerima pasien corona?\",8],[\"Apakah pasien covid bisa dirawat di sini?\",8],[\"Apakah RS ini menerima pasien Covid-19?\",8],[\"Apakah pasien covid boleh dirawat di sini?\",8],\n",
    "        [\"Jadwal besuk\",9],[\"Jadwal besuk pasien\",9], [\"Bertemu pasien\",9],[\"Menjenguk pasien\",9],[\"Saya ingin bertemu pasien\",9],[\"Saya ingin membesuk pasien\",9],\n",
    "        [\"Jadwal praktik dokter\",10],[\"Jadwal praktek dokter\",10],[\"Dokter apa saja yang praktik hari ini?\",10],[\"Praktek dokter hari ini\",10],[\"Praktik dokter hari ini\",10],\n",
    "        [\"Apakah bisa membeli obat disini?\",11],[\"Apa disini sedia obat?\",11],[\"Apakah tersedia obat disini sedia?\",11],[\"Apa bisa beli obat disini?\",11],[\"Apakah tersedia obat?\",11],\n",
    "        [\"Selamat tinggal\",12],[\"Sampai jumpa\",12],[\"Dadah\",12],[\"Bye\",12],[\"Sampai jumpa lagi\",12],[\"Sampai jumpa lain waktu\",12],\n",
    "        [\"Terima kasih\",13],[\"Terimakasih\",13],[\"Makasih\",13],[\"Terima kasih banyak\",13],[\"Makasih banyak\",13],[\"Terima kasih banget\",13],[\"Trims\",13],[\"Makasi\",13],[\"Terimakasi\",13],\n",
    "        [\"Apa yang bisa kamu lakukan?\",14],[\"Apa saja yang bisa kamu lakukan\",14],[\"Apa yang anda lakukan?\",14],[\"Apa saja yang anda lakukan?\",14],\n",
    "        [\"Aku merasa sakit\",15],[\"Saya merasa sakit\",15],[\"Saya ingin berobat\",15],[\"Aku ingin berobat\",15],[\"Aku sakit\",15],[\"Saya sakit\",15]]"
   ]
  },
  {
   "cell_type": "code",
   "execution_count": 4,
   "metadata": {
    "tags": []
   },
   "outputs": [
    {
     "name": "stdout",
     "output_type": "stream",
     "text": [
      "                  Text  Intent\n",
      "0                  Hai       0\n",
      "1                 Halo       0\n",
      "2                  Hey       0\n",
      "3      Assalamualaikum       0\n",
      "4                Salam       0\n",
      "..                 ...     ...\n",
      "90   Saya merasa sakit      15\n",
      "91  Saya ingin berobat      15\n",
      "92   Aku ingin berobat      15\n",
      "93           Aku sakit      15\n",
      "94          Saya sakit      15\n",
      "\n",
      "[95 rows x 2 columns]\n"
     ]
    }
   ],
   "source": [
    "#Mengubah data menjadi DataFrame agar daoat dilatih\n",
    "df = pd.DataFrame(data, columns = [\"Text\",\"Intent\"])\n",
    "print(df)"
   ]
  },
  {
   "cell_type": "markdown",
   "metadata": {},
   "source": [
    "## Text processing"
   ]
  },
  {
   "cell_type": "code",
   "execution_count": 5,
   "metadata": {
    "tags": []
   },
   "outputs": [],
   "source": [
    "# Lemmatisasi menggunakan WordNet\n",
    "\n",
    "lemmer = nltk.stem.WordNetLemmatizer()\n",
    "\n",
    "def LemTokens(tokens):\n",
    "    return [lemmer.lemmatize(token) for token in tokens]\n",
    "\n",
    "remove_punct_dict = dict((ord(punct), None) for punct in string.punctuation)\n",
    "\n",
    "def Normalize(text):\n",
    "    return LemTokens(nltk.word_tokenize(text.lower().translate(remove_punct_dict)))"
   ]
  },
  {
   "cell_type": "markdown",
   "metadata": {},
   "source": [
    "# Membuat dan melatih model"
   ]
  },
  {
   "cell_type": "code",
   "execution_count": 6,
   "metadata": {
    "tags": []
   },
   "outputs": [],
   "source": [
    "x = df['Text']\n",
    "y = df['Intent']"
   ]
  },
  {
   "cell_type": "code",
   "execution_count": 7,
   "metadata": {
    "tags": []
   },
   "outputs": [],
   "source": [
    "#Deklarasi stopword\n",
    "stop_factory = StopWordRemoverFactory()\n",
    "stopwords = stop_factory.get_stop_words()\n",
    "stopword = stop_factory.create_stop_word_remover()"
   ]
  },
  {
   "cell_type": "code",
   "execution_count": 8,
   "metadata": {
    "tags": []
   },
   "outputs": [],
   "source": [
    "vectorizer = TfidfVectorizer(tokenizer=Normalize, stop_words = stopwords)"
   ]
  },
  {
   "cell_type": "code",
   "execution_count": 9,
   "metadata": {
    "tags": []
   },
   "outputs": [],
   "source": [
    "X = vectorizer.fit_transform(x)"
   ]
  },
  {
   "cell_type": "code",
   "execution_count": 10,
   "metadata": {
    "tags": []
   },
   "outputs": [
    {
     "data": {
      "text/plain": [
       "LogisticRegression()"
      ]
     },
     "execution_count": 10,
     "metadata": {},
     "output_type": "execute_result"
    }
   ],
   "source": [
    "# Latih data dengan Logistic Regression\n",
    "from sklearn.linear_model import LogisticRegression\n",
    "\n",
    "lr = LogisticRegression()\n",
    "\n",
    "lr.fit(X, y)"
   ]
  },
  {
   "cell_type": "code",
   "execution_count": 11,
   "metadata": {
    "tags": []
   },
   "outputs": [],
   "source": [
    "# Test dengan kalimat\n",
    "X_test = [\"ada ruangan kosong ga ya?\"]\n",
    "prediction = lr.predict(vectorizer.transform(X_test))"
   ]
  },
  {
   "cell_type": "code",
   "execution_count": 12,
   "metadata": {
    "tags": []
   },
   "outputs": [
    {
     "data": {
      "text/plain": [
       "array([1], dtype=int64)"
      ]
     },
     "execution_count": 12,
     "metadata": {},
     "output_type": "execute_result"
    }
   ],
   "source": [
    "prediction"
   ]
  },
  {
   "cell_type": "code",
   "execution_count": 13,
   "metadata": {
    "tags": []
   },
   "outputs": [
    {
     "data": {
      "text/plain": [
       "array([[0.04151427, 0.30735138, 0.0343903 , 0.02206133, 0.13629717,\n",
       "        0.03703762, 0.03216492, 0.08685247, 0.03501044, 0.03940368,\n",
       "        0.03038876, 0.02964387, 0.04451617, 0.06183101, 0.02376307,\n",
       "        0.03777354]])"
      ]
     },
     "execution_count": 13,
     "metadata": {},
     "output_type": "execute_result"
    }
   ],
   "source": [
    "# Untuk mendapatkan probabilitas data uji yang ada di setiap Intent\n",
    "\n",
    "a = lr.predict_proba(vectorizer.transform(X_test))\n",
    "a"
   ]
  },
  {
   "cell_type": "markdown",
   "metadata": {},
   "source": [
    "# Membuat respon untuk masing\" intent"
   ]
  },
  {
   "cell_type": "code",
   "execution_count": 14,
   "metadata": {
    "tags": []
   },
   "outputs": [],
   "source": [
    "responses = {\n",
    "      0 : {\"intent\":\"salam\",\"response\":['Hai','Halo', 'Senang bertemu Anda',]}, \n",
    "      1 : {\"intent\":\"ruang_kosong\",\"response\":['Saat ini tersedia ruang:','Untuk saat ini ada ruang:','Saat ini hanya ada ruang:', 'Untuk saat ini tersedia ruang:',]},\n",
    "      2 : {\"intent\":\"dokter\",\"response\":['Untuk saat ini ada dokter:', 'Dokter yang ada untuk saat ini adalah:','Saat ini tersedia dokter:']},\n",
    "      3 : {\"intent\":\"dokter_spesialis\",\"response\":['Dokter spesialis yang ada di RS ini antara lain:','Di RS ini ada beberapa dokter spesialis, yaitu:','Beberapa dokter spesialis ada disini, yaitu:',]},\n",
    "      4 : {\"intent\":\"fasilitas\",\"response\":['Di RS ini terdapat beberapa ruangan, antara lain:','Ruangan yang ada di RS ini diantaranya:','RS ini memiliki beberapa ruangan, yaitu:']},\n",
    "      5 : {\"intent\":\"bpjs\",\"response\":['disini bisa menggunakan layanan BPJS','di rumah sakit ini bisa menggunakan BPJS','layanan BPJS tersedia di rumah sakit ini']},\n",
    "      6 : {\"intent\":\"gejala_covid\",\"response\":['Untuk gejala Covid-19 bisa dilihat di https://www.halodoc.com/artikel/tanda-tanda-long-covid-19-yang-perlu-diketahui']},\n",
    "      7 : {\"intent\":\"tidak_mengerti\",\"response\":['Maaf, saya tidak mengerti']},\n",
    "      8 : {\"intent\":\"rujukan_covid\",\"response\":['disini kami menerima pasien dengan gejala Covid-19','di RS ini menerima pasien dengan gejala Covid-19','pasien dengan gejala Covid bisa dirawat disini']},\n",
    "      9 : {\"intent\":\"Jadwal_besuk\",\"response\":['Jadwal besuk adalah pukul','Anda bisa menjenguk pasien pada jam','Jika ingin menemui pasien, harap datang jam']},\n",
    "      10 : {\"intent\":\"jadwal_praktek\",\"response\":['Jadwal praktek dokter di RS ini:','Berikut jadwal praktek dokter disini:','Jadwal praktek harian di RS ini:',]},\n",
    "      11 : {\"intent\":\"obat\",\"response\":['di RS ini tersedia obat','disini anda bisa menebus obat','disini anda bisa membeli obat',]},\n",
    "      12 : {\"intent\":\"selamat_tinggal\",\"response\":['Sampai jumpa','Selamat tinggal','dadah']},\n",
    "      13 : {\"intent\":\"terimakasih\",\"response\":['Sama-sama','Tidak masalah','Terima kasih kembali','Jangan sungkan']},\n",
    "      14 : {\"intent\":\"info\",\"response\":['Yang bisa saya lakukan, antara lain:']},\n",
    "      15 : {\"intent\":\"sakit\",\"response\":['silahkan hubungi dokter dan kunjungi RS terdekat atau RS kami yang berada di lokasi berikut:']}}"
   ]
  },
  {
   "cell_type": "markdown",
   "metadata": {},
   "source": [
    "# Mengaktifkan bot Telegram"
   ]
  },
  {
   "cell_type": "code",
   "execution_count": 15,
   "metadata": {
    "tags": []
   },
   "outputs": [],
   "source": [
    "import json\n",
    "\n",
    "class telegram_bot():\n",
    "    def __init__(self):\n",
    "        self.token= token\n",
    "        self.url = f\"https://api.telegram.org/bot{self.token}\"\n",
    "\n",
    "    def get_updates(self,offset=None):\n",
    "        url = self.url+\"/getUpdates?timeout=100\"\n",
    "        if offset:\n",
    "            url = url+f\"&offset={offset+1}\"\n",
    "        url_info = requests.get(url)\n",
    "        return json.loads(url_info.content)\n",
    "    \n",
    "    def send_message(self,msg,chat_id):\n",
    "        url = self.url + f\"/sendMessage?chat_id={chat_id}&text={msg}\"\n",
    "        if msg is not None:\n",
    "            requests.get(url)\n",
    "\n",
    "    def grab_token(self):\n",
    "        return tokens"
   ]
  },
  {
   "cell_type": "markdown",
   "metadata": {},
   "source": [
    "## Deploy bot dan membuat fungsi reply"
   ]
  },
  {
   "cell_type": "code",
   "execution_count": 16,
   "metadata": {
    "tags": []
   },
   "outputs": [],
   "source": [
    "def intent(user_response):\n",
    "    text_intent = [user_response]\n",
    "    X_test_intent = vectorizer.transform(text_intent)\n",
    "    predicted_intent = lr.predict(X_test_intent)\n",
    "    intent_predicted = responses[predicted_intent[0]]['intent']\n",
    "    return intent_predicted"
   ]
  },
  {
   "cell_type": "code",
   "execution_count": 17,
   "metadata": {
    "tags": []
   },
   "outputs": [],
   "source": [
    "import random\n",
    "\n",
    "def bot_initialize(user_msg):\n",
    "    flag=True\n",
    "    while(flag==True):\n",
    "        user_response = user_msg\n",
    "        \n",
    "        user_intent = intent(user_response)\n",
    "        \n",
    "        if(user_intent != 'selamat_tinggal'):\n",
    "            if(user_response == '/start'):\n",
    "                resp = \"\"\"Salam kenal, saya Chatbot rumah sakit. Saya berharap saya dapat membantu Anda\"\"\"\n",
    "                return resp\n",
    "\n",
    "            elif (user_intent == 'info' or user_response == '/help'):\n",
    "                resp = str(random.choice(responses[14]['response'])) +  '''\n",
    "1. /start\n",
    "2. /help\n",
    "3. menyapa\n",
    "4. info ruangan kosong\n",
    "5. info dokter tersedia\n",
    "6. info dokter spesialis\n",
    "7. info fasilitas\n",
    "8. info BPJS\n",
    "9. info gejala Covid-19\n",
    "10. info rujukan covid\n",
    "11. info jadwal jenguk\n",
    "12. info jadwal praktek\n",
    "13. info membeli obat\n",
    "14. ucapan selamat tinggal\n",
    "15. balasan terima kasih\n",
    "16. Error handling'''\n",
    "                return resp\n",
    "            \n",
    "            elif (user_intent == 'salam'):\n",
    "                resp = str(random.choice(responses[0]['response'])) + \", Ada yang bisa saya bantu?\"\n",
    "                return resp\n",
    "        \n",
    "            elif(user_intent == 'terimakasih'):\n",
    "                resp = random.choice(responses[13]['response'])\n",
    "                return resp\n",
    "            \n",
    "            elif(user_intent == 'ruang_kosong'):\n",
    "                resp = random.choice(responses[1]['response']) + \"\\n 5 Unit Gawat Darurat \\n 7 Instalasi Gawat Darurat \\n 3 Ruang operasi \\n 10 Ruang rawat inap \\n 6 Ruang isolasi pasien Covid-19\"\n",
    "                return resp\n",
    "            \n",
    "            elif(user_intent == 'dokter'):\n",
    "                resp = random.choice(responses[2]['response']) + \"\\n 4 Dokter Umum \\n 1 Dokter Spesialis Jantung \\n 1 Dokter Spesalis Syaraf\"\n",
    "                return resp\n",
    "            \n",
    "            elif(user_intent == 'dokter_spesialis'):\n",
    "                resp = random.choice(responses[3]['response']) + \"\\n 1. Dokter Budi (Spesialis Jantung) \\n 2. Dokter Ani (Spesialis Gigi) \\n 3. Dokter Joko (Spesialis Mata) \\n 4. Dokter Amel (Spesialis Syaraf) \\n DSB\"\n",
    "                return resp\n",
    "            \n",
    "            elif(user_intent == 'fasilitas'):\n",
    "                resp = random.choice(responses[4]['response']) + \"\\n 10 Unit Gawat Darurat \\n 15 Instalasi Gawat Darurat \\n 5 Ruang operasi \\n 20 Ruang rawat inap \\n 15 Ruang isolasi pasien Covid-19\"\n",
    "                return resp\n",
    "            \n",
    "            elif(user_intent == 'bpjs'):\n",
    "                resp = \"Ya, \" + random.choice(responses[5]['response'])\n",
    "                return resp\n",
    "            \n",
    "            elif(user_intent == 'gejala_covid'):\n",
    "                resp = random.choice(responses[6]['response']) + \", \\n \\nINGAT! Jangan pernah diagnosa penyakit sendiri atau bukan dengan ahlinya, segera hubugi dokter jika memiliki gejala tersebut\"\n",
    "                return resp\n",
    " \n",
    "            elif(user_intent == 'tidak_mengerti'):\n",
    "                resp = random.choice(responses[7]['response'])\n",
    "                return resp\n",
    "            \n",
    "            elif(user_intent == \"rujukan_covid\"):\n",
    "                resp = \"Ya, \" + random.choice(responses[8]['response'])\n",
    "                return resp\n",
    "\n",
    "            elif(user_intent == 'Jadwal_besuk'):\n",
    "                resp = random.choice(responses[9]['response']) + \"13:00 - 17:30, Hari Senin - Sabtu\"\n",
    "                return resp\n",
    "            \n",
    "            elif(user_intent == 'jadwal_praktek'):\n",
    "                resp = random.choice(responses[10]['response']) + \"\\n Dokter Umum: Senin - Minggu (08:00 - 19-00) \\n Dokter Spesialis Mata: Selasa - Jumat (10:00 - 18-30) \\n Dokter Spesialis Jantung: Senin - Jumat (10:00 - 17-30) \\n DSB\"\n",
    "                return resp\n",
    "            \n",
    "            elif(user_intent == 'obat'):\n",
    "                resp = \"Ya, \" + random.choice(responses[11]['response']) + \", silahkan tebus obat di apotek Rumah Sakit.\"\n",
    "                return resp\n",
    "            \n",
    "            elif(user_intent == 'sakit'):\n",
    "                resp = \"Jika merasa sakit dan ingin berobat \" + random.choice(responses[15]['response']) + \" https://goo.gl/maps/DQFF5JvcFthAxeXn7\"\n",
    "                return resp\n",
    "\n",
    "            else:\n",
    "                resp = \"Maaf saya tidak mengerti, coba olah kata kembali\"\n",
    "                return resp\n",
    "            \n",
    "        else:\n",
    "            flag = False\n",
    "            resp = random.choice(responses[12]['response']) + \", semoga sehat selalu :)\"\n",
    "            return resp"
   ]
  },
  {
   "cell_type": "code",
   "execution_count": null,
   "metadata": {
    "tags": []
   },
   "outputs": [
    {
     "name": "stdout",
     "output_type": "stream",
     "text": [
      "siap menerima pesan\n",
      "[{'update_id': 28502744, 'message': {'message_id': 206, 'from': {'id': 1007745568, 'is_bot': False, 'first_name': 'Naufaldi', 'last_name': 'Hafid', 'username': 'naufaldi_h', 'language_code': 'en'}, 'chat': {'id': 1007745568, 'first_name': 'Naufaldi', 'last_name': 'Hafid', 'username': 'naufaldi_h', 'type': 'private'}, 'date': 1640158677, 'text': '/start', 'entities': [{'offset': 0, 'length': 6, 'type': 'bot_command'}]}}]\n",
      "28502744\n",
      "/start\n",
      "1007745568\n",
      "siap menerima pesan\n",
      "[{'update_id': 28502745, 'message': {'message_id': 208, 'from': {'id': 1007745568, 'is_bot': False, 'first_name': 'Naufaldi', 'last_name': 'Hafid', 'username': 'naufaldi_h', 'language_code': 'en'}, 'chat': {'id': 1007745568, 'first_name': 'Naufaldi', 'last_name': 'Hafid', 'username': 'naufaldi_h', 'type': 'private'}, 'date': 1640158689, 'text': '/help', 'entities': [{'offset': 0, 'length': 5, 'type': 'bot_command'}]}}]\n",
      "28502745\n",
      "/help\n",
      "1007745568\n",
      "siap menerima pesan\n",
      "[{'update_id': 28502746, 'message': {'message_id': 210, 'from': {'id': 1007745568, 'is_bot': False, 'first_name': 'Naufaldi', 'last_name': 'Hafid', 'username': 'naufaldi_h', 'language_code': 'en'}, 'chat': {'id': 1007745568, 'first_name': 'Naufaldi', 'last_name': 'Hafid', 'username': 'naufaldi_h', 'type': 'private'}, 'date': 1640158705, 'text': 'apa saja yang bisa kamu lakukan?'}}]\n",
      "28502746\n",
      "apa saja yang bisa kamu lakukan?\n",
      "1007745568\n",
      "siap menerima pesan\n",
      "[{'update_id': 28502747, 'message': {'message_id': 212, 'from': {'id': 1007745568, 'is_bot': False, 'first_name': 'Naufaldi', 'last_name': 'Hafid', 'username': 'naufaldi_h', 'language_code': 'en'}, 'chat': {'id': 1007745568, 'first_name': 'Naufaldi', 'last_name': 'Hafid', 'username': 'naufaldi_h', 'type': 'private'}, 'date': 1640158714, 'text': 'halo'}}]\n",
      "28502747\n",
      "halo\n",
      "1007745568\n",
      "siap menerima pesan\n",
      "[{'update_id': 28502748, 'message': {'message_id': 214, 'from': {'id': 1007745568, 'is_bot': False, 'first_name': 'Naufaldi', 'last_name': 'Hafid', 'username': 'naufaldi_h', 'language_code': 'en'}, 'chat': {'id': 1007745568, 'first_name': 'Naufaldi', 'last_name': 'Hafid', 'username': 'naufaldi_h', 'type': 'private'}, 'date': 1640158729, 'text': 'apakaha ada  dokter?'}}]\n",
      "28502748\n",
      "apakaha ada  dokter?\n",
      "1007745568\n",
      "siap menerima pesan\n",
      "[{'update_id': 28502749, 'message': {'message_id': 216, 'from': {'id': 1007745568, 'is_bot': False, 'first_name': 'Naufaldi', 'last_name': 'Hafid', 'username': 'naufaldi_h', 'language_code': 'en'}, 'chat': {'id': 1007745568, 'first_name': 'Naufaldi', 'last_name': 'Hafid', 'username': 'naufaldi_h', 'type': 'private'}, 'date': 1640158770, 'text': 'disini menerima bpjs ga ya?'}}]\n",
      "28502749\n",
      "disini menerima bpjs ga ya?\n",
      "1007745568\n",
      "siap menerima pesan\n",
      "[]\n",
      "siap menerima pesan\n",
      "[{'update_id': 28502750, 'message': {'message_id': 218, 'from': {'id': 1007745568, 'is_bot': False, 'first_name': 'Naufaldi', 'last_name': 'Hafid', 'username': 'naufaldi_h', 'language_code': 'en'}, 'chat': {'id': 1007745568, 'first_name': 'Naufaldi', 'last_name': 'Hafid', 'username': 'naufaldi_h', 'type': 'private'}, 'date': 1640158828, 'text': '/start', 'entities': [{'offset': 0, 'length': 6, 'type': 'bot_command'}]}}]\n",
      "28502750\n",
      "/start\n",
      "1007745568\n",
      "siap menerima pesan\n",
      "[{'update_id': 28502751, 'message': {'message_id': 220, 'from': {'id': 1007745568, 'is_bot': False, 'first_name': 'Naufaldi', 'last_name': 'Hafid', 'username': 'naufaldi_h', 'language_code': 'en'}, 'chat': {'id': 1007745568, 'first_name': 'Naufaldi', 'last_name': 'Hafid', 'username': 'naufaldi_h', 'type': 'private'}, 'date': 1640158845, 'text': 'apa saja yangbisa kamu lakukan?'}}]\n",
      "28502751\n",
      "apa saja yangbisa kamu lakukan?\n",
      "1007745568\n",
      "siap menerima pesan\n",
      "[{'update_id': 28502752, 'message': {'message_id': 222, 'from': {'id': 1007745568, 'is_bot': False, 'first_name': 'Naufaldi', 'last_name': 'Hafid', 'username': 'naufaldi_h', 'language_code': 'en'}, 'chat': {'id': 1007745568, 'first_name': 'Naufaldi', 'last_name': 'Hafid', 'username': 'naufaldi_h', 'type': 'private'}, 'date': 1640158859, 'text': 'ada ruangan kosong ga?'}}]\n",
      "28502752\n",
      "ada ruangan kosong ga?\n",
      "1007745568\n",
      "siap menerima pesan\n",
      "[{'update_id': 28502753, 'message': {'message_id': 224, 'from': {'id': 1007745568, 'is_bot': False, 'first_name': 'Naufaldi', 'last_name': 'Hafid', 'username': 'naufaldi_h', 'language_code': 'en'}, 'chat': {'id': 1007745568, 'first_name': 'Naufaldi', 'last_name': 'Hafid', 'username': 'naufaldi_h', 'type': 'private'}, 'date': 1640158905, 'text': 'apakah disini menerima pasien covid?'}}]\n",
      "28502753\n",
      "apakah disini menerima pasien covid?\n",
      "1007745568\n",
      "siap menerima pesan\n",
      "[{'update_id': 28502754, 'message': {'message_id': 226, 'from': {'id': 1007745568, 'is_bot': False, 'first_name': 'Naufaldi', 'last_name': 'Hafid', 'username': 'naufaldi_h', 'language_code': 'en'}, 'chat': {'id': 1007745568, 'first_name': 'Naufaldi', 'last_name': 'Hafid', 'username': 'naufaldi_h', 'type': 'private'}, 'date': 1640158928, 'text': 'jadwal praktek hari ini'}}]\n",
      "28502754\n",
      "jadwal praktek hari ini\n",
      "1007745568\n",
      "siap menerima pesan\n",
      "[{'update_id': 28502755, 'message': {'message_id': 228, 'from': {'id': 1007745568, 'is_bot': False, 'first_name': 'Naufaldi', 'last_name': 'Hafid', 'username': 'naufaldi_h', 'language_code': 'en'}, 'chat': {'id': 1007745568, 'first_name': 'Naufaldi', 'last_name': 'Hafid', 'username': 'naufaldi_h', 'type': 'private'}, 'date': 1640158949, 'text': 'ruangan apa saja yang ada disini?'}}]\n",
      "28502755\n",
      "ruangan apa saja yang ada disini?\n",
      "1007745568\n",
      "siap menerima pesan\n",
      "[{'update_id': 28502756, 'message': {'message_id': 230, 'from': {'id': 1007745568, 'is_bot': False, 'first_name': 'Naufaldi', 'last_name': 'Hafid', 'username': 'naufaldi_h', 'language_code': 'en'}, 'chat': {'id': 1007745568, 'first_name': 'Naufaldi', 'last_name': 'Hafid', 'username': 'naufaldi_h', 'type': 'private'}, 'date': 1640158981, 'text': 'saya ingin menjemnguk pasien'}}]\n",
      "28502756\n",
      "saya ingin menjemnguk pasien\n",
      "1007745568\n",
      "siap menerima pesan\n",
      "[{'update_id': 28502757, 'message': {'message_id': 232, 'from': {'id': 1007745568, 'is_bot': False, 'first_name': 'Naufaldi', 'last_name': 'Hafid', 'username': 'naufaldi_h', 'language_code': 'en'}, 'chat': {'id': 1007745568, 'first_name': 'Naufaldi', 'last_name': 'Hafid', 'username': 'naufaldi_h', 'type': 'private'}, 'date': 1640158997, 'text': 'ppppp'}}]\n",
      "28502757\n",
      "ppppp\n",
      "1007745568\n",
      "siap menerima pesan\n",
      "[{'update_id': 28502758, 'message': {'message_id': 234, 'from': {'id': 1007745568, 'is_bot': False, 'first_name': 'Naufaldi', 'last_name': 'Hafid', 'username': 'naufaldi_h', 'language_code': 'en'}, 'chat': {'id': 1007745568, 'first_name': 'Naufaldi', 'last_name': 'Hafid', 'username': 'naufaldi_h', 'type': 'private'}, 'date': 1640158999, 'text': 'aaaa'}}]\n",
      "28502758\n",
      "aaaa\n",
      "1007745568\n",
      "siap menerima pesan\n",
      "[{'update_id': 28502759, 'message': {'message_id': 236, 'from': {'id': 1007745568, 'is_bot': False, 'first_name': 'Naufaldi', 'last_name': 'Hafid', 'username': 'naufaldi_h', 'language_code': 'en'}, 'chat': {'id': 1007745568, 'first_name': 'Naufaldi', 'last_name': 'Hafid', 'username': 'naufaldi_h', 'type': 'private'}, 'date': 1640159009, 'text': 'apakah kamu robot?'}}]\n",
      "28502759\n",
      "apakah kamu robot?\n",
      "1007745568\n",
      "siap menerima pesan\n",
      "[]\n",
      "siap menerima pesan\n",
      "[]\n",
      "siap menerima pesan\n",
      "[]\n",
      "siap menerima pesan\n",
      "[]\n",
      "siap menerima pesan\n",
      "[]\n",
      "siap menerima pesan\n",
      "[]\n",
      "siap menerima pesan\n"
     ]
    }
   ],
   "source": [
    "tbot = telegram_bot()\n",
    "update_id = None\n",
    "\n",
    "def make_reply(msg):\n",
    "    if msg is not None:\n",
    "        reply = bot_initialize(msg)\n",
    "    return reply\n",
    "\n",
    "while True:\n",
    "    print(\"siap menerima pesan\")\n",
    "    updates = tbot.get_updates(offset=update_id)\n",
    "    updates = updates['result']\n",
    "    print(updates)\n",
    "    if updates:\n",
    "        for item in updates:\n",
    "            update_id = item[\"update_id\"]\n",
    "            print(update_id)\n",
    "            try:\n",
    "                message = item[\"message\"][\"text\"]\n",
    "                print(message)\n",
    "            except:\n",
    "                message = None\n",
    "            from_ = item[\"message\"][\"from\"][\"id\"]\n",
    "            print(from_)\n",
    "\n",
    "            reply = make_reply(message)\n",
    "            tbot.send_message(reply,from_)"
   ]
  },
  {
   "cell_type": "code",
   "execution_count": null,
   "metadata": {},
   "outputs": [],
   "source": []
  },
  {
   "cell_type": "code",
   "execution_count": null,
   "metadata": {},
   "outputs": [],
   "source": []
  },
  {
   "cell_type": "code",
   "execution_count": null,
   "metadata": {},
   "outputs": [],
   "source": []
  }
 ],
 "metadata": {
  "kernelspec": {
   "display_name": "Python 3 (ipykernel)",
   "language": "python",
   "name": "python3"
  },
  "language_info": {
   "codemirror_mode": {
    "name": "ipython",
    "version": 3
   },
   "file_extension": ".py",
   "mimetype": "text/x-python",
   "name": "python",
   "nbconvert_exporter": "python",
   "pygments_lexer": "ipython3",
   "version": "3.7.11"
  }
 },
 "nbformat": 4,
 "nbformat_minor": 4
}
